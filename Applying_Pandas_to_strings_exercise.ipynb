{
 "cells": [
  {
   "cell_type": "markdown",
   "id": "cd88ea27",
   "metadata": {},
   "source": [
    "<div align=\"center\" style=\" font-size: 80%; text-align: center; margin: 0 auto\">\n",
    "<img src=\"https://raw.githubusercontent.com/Explore-AI/Pictures/master/Python-Notebook-Banners/Exercise.png\"  style=\"display: block; margin-left: auto; margin-right: auto;\";/>\n",
    "</div>"
   ]
  },
  {
   "cell_type": "markdown",
   "id": "f662d169",
   "metadata": {},
   "source": [
    "# Exercise: Applying Pandas to strings\n",
    "© ExploreAI Academy"
   ]
  },
  {
   "cell_type": "markdown",
   "id": "26af890c",
   "metadata": {},
   "source": [
    "In this notebook, we test some of the concepts we've learned for Pandas application on strings."
   ]
  },
  {
   "cell_type": "markdown",
   "id": "2d230d14",
   "metadata": {
    "tags": []
   },
   "source": [
    "## Learning objectives\n",
    "\n",
    "By the end of this train, you should be able to:\n",
    "- Demonstrate the ability to apply Pandas concepts in Python."
   ]
  },
  {
   "cell_type": "markdown",
   "id": "de45a481",
   "metadata": {},
   "source": [
    "## Exercises\n",
    "\n",
    "**Project scenario**: Environmental data analysis\n",
    "\n",
    "**Background**: You are working with an environmental organisation that focuses on conserving natural habitats. You have been given a dataset containing detailed records of various conservation projects, environmental incidents, and initiatives. Your task is to extract and analyse specific information from this dataset to aid decision-making and reporting.\n",
    "\n",
    "**Dataset structure**: The DataFrame `environment_df` contains the columns: 'ID', 'Description', 'Date', 'Location', 'Budget', and 'Notes'."
   ]
  },
  {
   "cell_type": "code",
   "execution_count": 2,
   "id": "cd57c70f",
   "metadata": {},
   "outputs": [
    {
     "name": "stdout",
     "output_type": "stream",
     "text": [
      "   ID                                        Description        Date  \\\n",
      "0   1               Forest Conservation Project in Spain  2021-03-15   \n",
      "1   2  River Cleanup Initiative Project 2021 in Portugal  2021-06-20   \n",
      "2   3       Urban Gardening Community Project in Germany  2022-01-11   \n",
      "3   4        Forest Reforestation Project 2022 in France  2022-04-05   \n",
      "4   5          Wildlife Protection Project Plan in Italy  2023-02-22   \n",
      "5   6  Endangered Species Conservation Project in Greece  2023-05-30   \n",
      "6   7               Wetland Restoration Project in Spain  2021-09-13   \n",
      "7   8       Marine Life Conservation Project in Portugal  2022-07-19   \n",
      "8   9  Air Quality Improvement Project Initiative in ...  2023-03-08   \n",
      "9  10   Habitat Preservation Project for Birds in France  2022-11-21   \n",
      "\n",
      "           Location  Budget                                              Notes  \n",
      "0     madrid, spain  $20000         Focusing on native forest species in Spain  \n",
      "1  LISBON, Portugal  €15000  Cleanup of the Tagus river in Portugal. Endang...  \n",
      "2   berlin, germany  €12000         Community project in urban Berlin, Germany  \n",
      "3     Paris, France  £18000        Reforestation of oak trees in Paris, France  \n",
      "4       rome, Italy  $25000  Plan for protecting local wildlife in Italy. E...  \n",
      "5    Athens, GREECE  €20000  Study on the impact on endangered bird species...  \n",
      "6   Valencia, Spain  $17000         Restoration of wetlands in Valencia, Spain  \n",
      "7   PORTO, Portugal  €13000     Conservation of marine life in Porto, Portugal  \n",
      "8   Munich, Germany  €11000  Initiative for improving air quality in Munich...  \n",
      "9      Lyon, France  £16000      Preservation of bird habitats in Lyon, France  \n"
     ]
    }
   ],
   "source": [
    "import pandas as pd\n",
    "import re\n",
    "\n",
    "data = {\n",
    "    'ID': [1, 2, 3, 4, 5, 6, 7, 8, 9, 10],\n",
    "    'Description': [\n",
    "        'Forest Conservation Project in Spain',\n",
    "        'River Cleanup Initiative Project 2021 in Portugal',\n",
    "        'Urban Gardening Community Project in Germany',\n",
    "        'Forest Reforestation Project 2022 in France',\n",
    "        'Wildlife Protection Project Plan in Italy',\n",
    "        'Endangered Species Conservation Project in Greece',\n",
    "        'Wetland Restoration Project in Spain',\n",
    "        'Marine Life Conservation Project in Portugal',\n",
    "        'Air Quality Improvement Project Initiative in Germany',\n",
    "        'Habitat Preservation Project for Birds in France'\n",
    "    ],\n",
    "    'Date': ['2021-03-15', '2021-06-20', '2022-01-11', '2022-04-05', '2023-02-22', '2023-05-30', '2021-09-13', '2022-07-19', '2023-03-08', '2022-11-21'],\n",
    "    'Location': ['madrid, spain', 'LISBON, Portugal', 'berlin, germany', 'Paris, France', 'rome, Italy', 'Athens, GREECE', 'Valencia, Spain', 'PORTO, Portugal', 'Munich, Germany', 'Lyon, France'],\n",
    "    'Budget': ['$20000', '€15000', '€12000', '£18000', '$25000', '€20000', '$17000', '€13000', '€11000', '£16000'],\n",
    "    'Notes': [\n",
    "        'Focusing on native forest species in Spain',\n",
    "        'Cleanup of the Tagus river in Portugal. Endangered species alert!',\n",
    "        'Community project in urban Berlin, Germany',\n",
    "        'Reforestation of oak trees in Paris, France',\n",
    "        'Plan for protecting local wildlife in Italy. Endangered species identified.',\n",
    "        'Study on the impact on endangered bird species in Greece',\n",
    "        'Restoration of wetlands in Valencia, Spain',\n",
    "        'Conservation of marine life in Porto, Portugal',\n",
    "        'Initiative for improving air quality in Munich, Germany',\n",
    "        'Preservation of bird habitats in Lyon, France'\n",
    "    ]\n",
    "}\n",
    "\n",
    "\n",
    "\n",
    "environment_df = pd.DataFrame(data)\n",
    "\n",
    "print(environment_df)"
   ]
  },
  {
   "cell_type": "markdown",
   "id": "5a0b7683",
   "metadata": {
    "tags": []
   },
   "source": [
    "### Exercise 1\n",
    "\n",
    "Standardise the format of the 'Location' column where each location should be in the format \"City, Country\". Additionally, extract the year from the 'Date' column and create a new column, 'Year'."
   ]
  },
  {
   "cell_type": "code",
   "execution_count": 3,
   "id": "35b8fcd4",
   "metadata": {},
   "outputs": [
    {
     "name": "stdout",
     "output_type": "stream",
     "text": [
      "   ID                                        Description        Date  \\\n",
      "0   1               Forest Conservation Project in Spain  2021-03-15   \n",
      "1   2  River Cleanup Initiative Project 2021 in Portugal  2021-06-20   \n",
      "2   3       Urban Gardening Community Project in Germany  2022-01-11   \n",
      "3   4        Forest Reforestation Project 2022 in France  2022-04-05   \n",
      "4   5          Wildlife Protection Project Plan in Italy  2023-02-22   \n",
      "5   6  Endangered Species Conservation Project in Greece  2023-05-30   \n",
      "6   7               Wetland Restoration Project in Spain  2021-09-13   \n",
      "7   8       Marine Life Conservation Project in Portugal  2022-07-19   \n",
      "8   9  Air Quality Improvement Project Initiative in ...  2023-03-08   \n",
      "9  10   Habitat Preservation Project for Birds in France  2022-11-21   \n",
      "\n",
      "           Location  Budget  \\\n",
      "0     Madrid, Spain  $20000   \n",
      "1  Lisbon, Portugal  €15000   \n",
      "2   Berlin, Germany  €12000   \n",
      "3     Paris, France  £18000   \n",
      "4       Rome, Italy  $25000   \n",
      "5    Athens, Greece  €20000   \n",
      "6   Valencia, Spain  $17000   \n",
      "7   Porto, Portugal  €13000   \n",
      "8   Munich, Germany  €11000   \n",
      "9      Lyon, France  £16000   \n",
      "\n",
      "                                               Notes  Year  \n",
      "0         Focusing on native forest species in Spain  2021  \n",
      "1  Cleanup of the Tagus river in Portugal. Endang...  2021  \n",
      "2         Community project in urban Berlin, Germany  2022  \n",
      "3        Reforestation of oak trees in Paris, France  2022  \n",
      "4  Plan for protecting local wildlife in Italy. E...  2023  \n",
      "5  Study on the impact on endangered bird species...  2023  \n",
      "6         Restoration of wetlands in Valencia, Spain  2021  \n",
      "7     Conservation of marine life in Porto, Portugal  2022  \n",
      "8  Initiative for improving air quality in Munich...  2023  \n",
      "9      Preservation of bird habitats in Lyon, France  2022  \n"
     ]
    },
    {
     "name": "stderr",
     "output_type": "stream",
     "text": [
      "<>:2: SyntaxWarning: invalid escape sequence '\\d'\n",
      "<>:2: SyntaxWarning: invalid escape sequence '\\d'\n",
      "C:\\Users\\Bolaji Joshua\\AppData\\Local\\Temp\\ipykernel_11892\\1887525233.py:2: SyntaxWarning: invalid escape sequence '\\d'\n",
      "  environment_df[\"Year\"] = environment_df[\"Date\"].str.extract('(^\\d{4})')\n"
     ]
    }
   ],
   "source": [
    "environment_df['Location'] = environment_df['Location'].str.title()\n",
    "environment_df[\"Year\"] = environment_df[\"Date\"].str.extract('(^\\d{4})')\n",
    "print(environment_df)"
   ]
  },
  {
   "cell_type": "markdown",
   "id": "dc9b7dc6",
   "metadata": {},
   "source": [
    "### Exercise 2\n",
    "\n",
    "Calculate the total budget allocated to \"forest\"-related projects. Assume that the 'Budget' column is in string format with various currency symbols, and convert it to a numeric format for calculations.\n",
    "\n",
    "Hint:\n",
    "1. Identify the currency of each budget amount.\n",
    "2. Convert each amount to USD.\n",
    "3. Sum the converted amounts."
   ]
  },
  {
   "cell_type": "code",
   "execution_count": null,
   "id": "ae48fab0",
   "metadata": {},
   "outputs": [],
   "source": [
    "# Fixed conversion rates\n",
    "conversion_rates = {'$': 1.0, '€': 1.1, '£': 1.3}  # Rates: 1 Euro = 1.1 USD, 1 Pound = 1.3 USD\n",
    "\n",
    "\n",
    "# insert code here"
   ]
  },
  {
   "cell_type": "markdown",
   "id": "03df7563",
   "metadata": {},
   "source": [
    "### Exercise 3\n",
    "\n",
    "Identify all records (`Notes` column) that mention endangered species and tag these records in a new column, '`Endangered_species`', with a 'Yes' or 'No' flag."
   ]
  },
  {
   "cell_type": "code",
   "execution_count": null,
   "id": "554e071a",
   "metadata": {},
   "outputs": [],
   "source": [
    "# insert code here"
   ]
  },
  {
   "cell_type": "markdown",
   "id": "086c8987",
   "metadata": {},
   "source": [
    "### Exercise 4\n",
    "\n",
    "Generate a report which shows, for each country, the number of projects, the average budget per project for that country, and a list of the top three most common project types across all the countries. Assume 'Project Type' is part of the 'Description' and can be obtained by finding the text before the word 'Project'."
   ]
  },
  {
   "cell_type": "code",
   "execution_count": null,
   "id": "4ee0371f",
   "metadata": {},
   "outputs": [],
   "source": [
    "# insert code here"
   ]
  },
  {
   "cell_type": "markdown",
   "id": "555dea0d",
   "metadata": {},
   "source": [
    "## Solutions"
   ]
  },
  {
   "cell_type": "markdown",
   "id": "9ff8f391",
   "metadata": {},
   "source": [
    "### Exercise 1"
   ]
  },
  {
   "cell_type": "code",
   "execution_count": 4,
   "id": "ad52ad95",
   "metadata": {},
   "outputs": [
    {
     "ename": "AttributeError",
     "evalue": "'function' object has no attribute 'title'",
     "output_type": "error",
     "traceback": [
      "\u001b[1;31m---------------------------------------------------------------------------\u001b[0m",
      "\u001b[1;31mAttributeError\u001b[0m                            Traceback (most recent call last)",
      "Cell \u001b[1;32mIn[4], line 2\u001b[0m\n\u001b[0;32m      1\u001b[0m \u001b[38;5;66;03m# Standardising 'Location'\u001b[39;00m\n\u001b[1;32m----> 2\u001b[0m environment_df[\u001b[38;5;124m'\u001b[39m\u001b[38;5;124mLocation\u001b[39m\u001b[38;5;124m'\u001b[39m] \u001b[38;5;241m=\u001b[39m environment_df[\u001b[38;5;124m'\u001b[39m\u001b[38;5;124mLocation\u001b[39m\u001b[38;5;124m'\u001b[39m]\u001b[38;5;241m.\u001b[39mapply(\u001b[38;5;28;01mlambda\u001b[39;00m x: x\u001b[38;5;241m.\u001b[39mtitle())\n\u001b[0;32m      4\u001b[0m \u001b[38;5;66;03m# Extracting 'Year'\u001b[39;00m\n\u001b[0;32m      5\u001b[0m environment_df[\u001b[38;5;124m'\u001b[39m\u001b[38;5;124mYear\u001b[39m\u001b[38;5;124m'\u001b[39m] \u001b[38;5;241m=\u001b[39m pd\u001b[38;5;241m.\u001b[39mto_datetime(environment_df[\u001b[38;5;124m'\u001b[39m\u001b[38;5;124mDate\u001b[39m\u001b[38;5;124m'\u001b[39m])\u001b[38;5;241m.\u001b[39mdt\u001b[38;5;241m.\u001b[39myear\n",
      "File \u001b[1;32mc:\\Users\\Bolaji Joshua\\anaconda3\\Lib\\site-packages\\pandas\\core\\series.py:4924\u001b[0m, in \u001b[0;36mSeries.apply\u001b[1;34m(self, func, convert_dtype, args, by_row, **kwargs)\u001b[0m\n\u001b[0;32m   4789\u001b[0m \u001b[38;5;28;01mdef\u001b[39;00m \u001b[38;5;21mapply\u001b[39m(\n\u001b[0;32m   4790\u001b[0m     \u001b[38;5;28mself\u001b[39m,\n\u001b[0;32m   4791\u001b[0m     func: AggFuncType,\n\u001b[1;32m   (...)\u001b[0m\n\u001b[0;32m   4796\u001b[0m     \u001b[38;5;241m*\u001b[39m\u001b[38;5;241m*\u001b[39mkwargs,\n\u001b[0;32m   4797\u001b[0m ) \u001b[38;5;241m-\u001b[39m\u001b[38;5;241m>\u001b[39m DataFrame \u001b[38;5;241m|\u001b[39m Series:\n\u001b[0;32m   4798\u001b[0m \u001b[38;5;250m    \u001b[39m\u001b[38;5;124;03m\"\"\"\u001b[39;00m\n\u001b[0;32m   4799\u001b[0m \u001b[38;5;124;03m    Invoke function on values of Series.\u001b[39;00m\n\u001b[0;32m   4800\u001b[0m \n\u001b[1;32m   (...)\u001b[0m\n\u001b[0;32m   4915\u001b[0m \u001b[38;5;124;03m    dtype: float64\u001b[39;00m\n\u001b[0;32m   4916\u001b[0m \u001b[38;5;124;03m    \"\"\"\u001b[39;00m\n\u001b[0;32m   4917\u001b[0m     \u001b[38;5;28;01mreturn\u001b[39;00m SeriesApply(\n\u001b[0;32m   4918\u001b[0m         \u001b[38;5;28mself\u001b[39m,\n\u001b[0;32m   4919\u001b[0m         func,\n\u001b[0;32m   4920\u001b[0m         convert_dtype\u001b[38;5;241m=\u001b[39mconvert_dtype,\n\u001b[0;32m   4921\u001b[0m         by_row\u001b[38;5;241m=\u001b[39mby_row,\n\u001b[0;32m   4922\u001b[0m         args\u001b[38;5;241m=\u001b[39margs,\n\u001b[0;32m   4923\u001b[0m         kwargs\u001b[38;5;241m=\u001b[39mkwargs,\n\u001b[1;32m-> 4924\u001b[0m     )\u001b[38;5;241m.\u001b[39mapply()\n",
      "File \u001b[1;32mc:\\Users\\Bolaji Joshua\\anaconda3\\Lib\\site-packages\\pandas\\core\\apply.py:1427\u001b[0m, in \u001b[0;36mSeriesApply.apply\u001b[1;34m(self)\u001b[0m\n\u001b[0;32m   1424\u001b[0m     \u001b[38;5;28;01mreturn\u001b[39;00m \u001b[38;5;28mself\u001b[39m\u001b[38;5;241m.\u001b[39mapply_compat()\n\u001b[0;32m   1426\u001b[0m \u001b[38;5;66;03m# self.func is Callable\u001b[39;00m\n\u001b[1;32m-> 1427\u001b[0m \u001b[38;5;28;01mreturn\u001b[39;00m \u001b[38;5;28mself\u001b[39m\u001b[38;5;241m.\u001b[39mapply_standard()\n",
      "File \u001b[1;32mc:\\Users\\Bolaji Joshua\\anaconda3\\Lib\\site-packages\\pandas\\core\\apply.py:1507\u001b[0m, in \u001b[0;36mSeriesApply.apply_standard\u001b[1;34m(self)\u001b[0m\n\u001b[0;32m   1501\u001b[0m \u001b[38;5;66;03m# row-wise access\u001b[39;00m\n\u001b[0;32m   1502\u001b[0m \u001b[38;5;66;03m# apply doesn't have a `na_action` keyword and for backward compat reasons\u001b[39;00m\n\u001b[0;32m   1503\u001b[0m \u001b[38;5;66;03m# we need to give `na_action=\"ignore\"` for categorical data.\u001b[39;00m\n\u001b[0;32m   1504\u001b[0m \u001b[38;5;66;03m# TODO: remove the `na_action=\"ignore\"` when that default has been changed in\u001b[39;00m\n\u001b[0;32m   1505\u001b[0m \u001b[38;5;66;03m#  Categorical (GH51645).\u001b[39;00m\n\u001b[0;32m   1506\u001b[0m action \u001b[38;5;241m=\u001b[39m \u001b[38;5;124m\"\u001b[39m\u001b[38;5;124mignore\u001b[39m\u001b[38;5;124m\"\u001b[39m \u001b[38;5;28;01mif\u001b[39;00m \u001b[38;5;28misinstance\u001b[39m(obj\u001b[38;5;241m.\u001b[39mdtype, CategoricalDtype) \u001b[38;5;28;01melse\u001b[39;00m \u001b[38;5;28;01mNone\u001b[39;00m\n\u001b[1;32m-> 1507\u001b[0m mapped \u001b[38;5;241m=\u001b[39m obj\u001b[38;5;241m.\u001b[39m_map_values(\n\u001b[0;32m   1508\u001b[0m     mapper\u001b[38;5;241m=\u001b[39mcurried, na_action\u001b[38;5;241m=\u001b[39maction, convert\u001b[38;5;241m=\u001b[39m\u001b[38;5;28mself\u001b[39m\u001b[38;5;241m.\u001b[39mconvert_dtype\n\u001b[0;32m   1509\u001b[0m )\n\u001b[0;32m   1511\u001b[0m \u001b[38;5;28;01mif\u001b[39;00m \u001b[38;5;28mlen\u001b[39m(mapped) \u001b[38;5;129;01mand\u001b[39;00m \u001b[38;5;28misinstance\u001b[39m(mapped[\u001b[38;5;241m0\u001b[39m], ABCSeries):\n\u001b[0;32m   1512\u001b[0m     \u001b[38;5;66;03m# GH#43986 Need to do list(mapped) in order to get treated as nested\u001b[39;00m\n\u001b[0;32m   1513\u001b[0m     \u001b[38;5;66;03m#  See also GH#25959 regarding EA support\u001b[39;00m\n\u001b[0;32m   1514\u001b[0m     \u001b[38;5;28;01mreturn\u001b[39;00m obj\u001b[38;5;241m.\u001b[39m_constructor_expanddim(\u001b[38;5;28mlist\u001b[39m(mapped), index\u001b[38;5;241m=\u001b[39mobj\u001b[38;5;241m.\u001b[39mindex)\n",
      "File \u001b[1;32mc:\\Users\\Bolaji Joshua\\anaconda3\\Lib\\site-packages\\pandas\\core\\base.py:921\u001b[0m, in \u001b[0;36mIndexOpsMixin._map_values\u001b[1;34m(self, mapper, na_action, convert)\u001b[0m\n\u001b[0;32m    918\u001b[0m \u001b[38;5;28;01mif\u001b[39;00m \u001b[38;5;28misinstance\u001b[39m(arr, ExtensionArray):\n\u001b[0;32m    919\u001b[0m     \u001b[38;5;28;01mreturn\u001b[39;00m arr\u001b[38;5;241m.\u001b[39mmap(mapper, na_action\u001b[38;5;241m=\u001b[39mna_action)\n\u001b[1;32m--> 921\u001b[0m \u001b[38;5;28;01mreturn\u001b[39;00m algorithms\u001b[38;5;241m.\u001b[39mmap_array(arr, mapper, na_action\u001b[38;5;241m=\u001b[39mna_action, convert\u001b[38;5;241m=\u001b[39mconvert)\n",
      "File \u001b[1;32mc:\\Users\\Bolaji Joshua\\anaconda3\\Lib\\site-packages\\pandas\\core\\algorithms.py:1743\u001b[0m, in \u001b[0;36mmap_array\u001b[1;34m(arr, mapper, na_action, convert)\u001b[0m\n\u001b[0;32m   1741\u001b[0m values \u001b[38;5;241m=\u001b[39m arr\u001b[38;5;241m.\u001b[39mastype(\u001b[38;5;28mobject\u001b[39m, copy\u001b[38;5;241m=\u001b[39m\u001b[38;5;28;01mFalse\u001b[39;00m)\n\u001b[0;32m   1742\u001b[0m \u001b[38;5;28;01mif\u001b[39;00m na_action \u001b[38;5;129;01mis\u001b[39;00m \u001b[38;5;28;01mNone\u001b[39;00m:\n\u001b[1;32m-> 1743\u001b[0m     \u001b[38;5;28;01mreturn\u001b[39;00m lib\u001b[38;5;241m.\u001b[39mmap_infer(values, mapper, convert\u001b[38;5;241m=\u001b[39mconvert)\n\u001b[0;32m   1744\u001b[0m \u001b[38;5;28;01melse\u001b[39;00m:\n\u001b[0;32m   1745\u001b[0m     \u001b[38;5;28;01mreturn\u001b[39;00m lib\u001b[38;5;241m.\u001b[39mmap_infer_mask(\n\u001b[0;32m   1746\u001b[0m         values, mapper, mask\u001b[38;5;241m=\u001b[39misna(values)\u001b[38;5;241m.\u001b[39mview(np\u001b[38;5;241m.\u001b[39muint8), convert\u001b[38;5;241m=\u001b[39mconvert\n\u001b[0;32m   1747\u001b[0m     )\n",
      "File \u001b[1;32mlib.pyx:2972\u001b[0m, in \u001b[0;36mpandas._libs.lib.map_infer\u001b[1;34m()\u001b[0m\n",
      "Cell \u001b[1;32mIn[4], line 2\u001b[0m, in \u001b[0;36m<lambda>\u001b[1;34m(x)\u001b[0m\n\u001b[0;32m      1\u001b[0m \u001b[38;5;66;03m# Standardising 'Location'\u001b[39;00m\n\u001b[1;32m----> 2\u001b[0m environment_df[\u001b[38;5;124m'\u001b[39m\u001b[38;5;124mLocation\u001b[39m\u001b[38;5;124m'\u001b[39m] \u001b[38;5;241m=\u001b[39m environment_df[\u001b[38;5;124m'\u001b[39m\u001b[38;5;124mLocation\u001b[39m\u001b[38;5;124m'\u001b[39m]\u001b[38;5;241m.\u001b[39mapply(\u001b[38;5;28;01mlambda\u001b[39;00m x: x\u001b[38;5;241m.\u001b[39mtitle())\n\u001b[0;32m      4\u001b[0m \u001b[38;5;66;03m# Extracting 'Year'\u001b[39;00m\n\u001b[0;32m      5\u001b[0m environment_df[\u001b[38;5;124m'\u001b[39m\u001b[38;5;124mYear\u001b[39m\u001b[38;5;124m'\u001b[39m] \u001b[38;5;241m=\u001b[39m pd\u001b[38;5;241m.\u001b[39mto_datetime(environment_df[\u001b[38;5;124m'\u001b[39m\u001b[38;5;124mDate\u001b[39m\u001b[38;5;124m'\u001b[39m])\u001b[38;5;241m.\u001b[39mdt\u001b[38;5;241m.\u001b[39myear\n",
      "\u001b[1;31mAttributeError\u001b[0m: 'function' object has no attribute 'title'"
     ]
    }
   ],
   "source": [
    "# Standardising 'Location'\n",
    "environment_df['Location'] = environment_df['Location'].apply(lambda x: x.title())\n",
    "\n",
    "# Extracting 'Year'\n",
    "environment_df['Year'] = pd.to_datetime(environment_df['Date']).dt.year\n",
    "\n",
    "print(environment_df)"
   ]
  },
  {
   "cell_type": "markdown",
   "id": "6a522670",
   "metadata": {},
   "source": [
    "**Standardising 'Location'**: This line converts all characters in the 'Location' column to title case (first letter of each word capitalised). It ensures consistency in the format of location names.\n",
    "\n",
    "**Extracting 'Year'**: This line extracts the year from the 'Date' column. It first converts the 'Date' column to a datetime object using `pd.to_datetime` and then extracts the year component from this datetime object, adding it as a new column, 'Year', in the DataFrame."
   ]
  },
  {
   "cell_type": "markdown",
   "id": "a10363b6",
   "metadata": {},
   "source": [
    "### Exercise 2"
   ]
  },
  {
   "cell_type": "code",
   "execution_count": 4,
   "id": "09386d51",
   "metadata": {},
   "outputs": [
    {
     "name": "stdout",
     "output_type": "stream",
     "text": [
      "43400.0\n"
     ]
    }
   ],
   "source": [
    "# Fixed conversion rates\n",
    "conversion_rates = {'$': 1.0, '€': 1.1, '£': 1.3}  # Example rates: 1 Euro = 1.1 USD, 1 Pound = 1.3 USD\n",
    "\n",
    "def convert_to_usd(budget_str):\n",
    "    # Extracting the currency symbol and amount\n",
    "    currency_symbol = budget_str[0]\n",
    "    amount = float(budget_str[1:])\n",
    "\n",
    "    # Converting to USD\n",
    "    if currency_symbol in conversion_rates:\n",
    "        return amount * conversion_rates[currency_symbol]\n",
    "    else:\n",
    "        return amount\n",
    "\n",
    "# Converting 'Budget' to numeric USD values\n",
    "environment_df['Budget_USD'] = environment_df['Budget'].apply(convert_to_usd)\n",
    "\n",
    "# Calculating total budget for \"forest\"-related projects in USD\n",
    "total_budget_forest_usd = environment_df[environment_df['Description'].str.contains(\"forest\", case=False)]['Budget_USD'].sum()\n",
    "print(total_budget_forest_usd)\n"
   ]
  },
  {
   "cell_type": "markdown",
   "id": "885e77b4",
   "metadata": {},
   "source": [
    "* The `convert_to_usd` function extracts the currency symbol and amount from each budget string. It then converts the amount to USD using the given conversion rates.\n",
    "* We then apply this function to the 'Budget' column to create a new 'Budget_USD' column, where all values are in USD.\n",
    "* Finally, we calculate the total budget for \"forest\"-related projects using this standardised 'Budget_USD' column."
   ]
  },
  {
   "cell_type": "markdown",
   "id": "ff325262",
   "metadata": {},
   "source": [
    "### Exercise 3\n",
    "\n",
    "This code uses regex to check if the words \"endangered species\" appear in the 'Notes' column of `environment_df`. If it does, the corresponding row in the new '`Endangered_species`' column is marked 'Yes', otherwise 'No'. The search is case insensitive."
   ]
  },
  {
   "cell_type": "code",
   "execution_count": 5,
   "id": "97439fd7",
   "metadata": {},
   "outputs": [
    {
     "name": "stdout",
     "output_type": "stream",
     "text": [
      "   ID                                        Description        Date  \\\n",
      "0   1               Forest Conservation Project in Spain  2021-03-15   \n",
      "1   2  River Cleanup Initiative Project 2021 in Portugal  2021-06-20   \n",
      "2   3       Urban Gardening Community Project in Germany  2022-01-11   \n",
      "3   4        Forest Reforestation Project 2022 in France  2022-04-05   \n",
      "4   5          Wildlife Protection Project Plan in Italy  2023-02-22   \n",
      "5   6  Endangered Species Conservation Project in Greece  2023-05-30   \n",
      "6   7               Wetland Restoration Project in Spain  2021-09-13   \n",
      "7   8       Marine Life Conservation Project in Portugal  2022-07-19   \n",
      "8   9  Air Quality Improvement Project Initiative in ...  2023-03-08   \n",
      "9  10   Habitat Preservation Project for Birds in France  2022-11-21   \n",
      "\n",
      "           Location  Budget  \\\n",
      "0     Madrid, Spain  $20000   \n",
      "1  Lisbon, Portugal  €15000   \n",
      "2   Berlin, Germany  €12000   \n",
      "3     Paris, France  £18000   \n",
      "4       Rome, Italy  $25000   \n",
      "5    Athens, Greece  €20000   \n",
      "6   Valencia, Spain  $17000   \n",
      "7   Porto, Portugal  €13000   \n",
      "8   Munich, Germany  €11000   \n",
      "9      Lyon, France  £16000   \n",
      "\n",
      "                                               Notes  Year  Budget_USD  \\\n",
      "0         Focusing on native forest species in Spain  2021     20000.0   \n",
      "1  Cleanup of the Tagus river in Portugal. Endang...  2021     16500.0   \n",
      "2         Community project in urban Berlin, Germany  2022     13200.0   \n",
      "3        Reforestation of oak trees in Paris, France  2022     23400.0   \n",
      "4  Plan for protecting local wildlife in Italy. E...  2023     25000.0   \n",
      "5  Study on the impact on endangered bird species...  2023     22000.0   \n",
      "6         Restoration of wetlands in Valencia, Spain  2021     17000.0   \n",
      "7     Conservation of marine life in Porto, Portugal  2022     14300.0   \n",
      "8  Initiative for improving air quality in Munich...  2023     12100.0   \n",
      "9      Preservation of bird habitats in Lyon, France  2022     20800.0   \n",
      "\n",
      "  Endangered_species  \n",
      "0                 No  \n",
      "1                Yes  \n",
      "2                 No  \n",
      "3                 No  \n",
      "4                Yes  \n",
      "5                 No  \n",
      "6                 No  \n",
      "7                 No  \n",
      "8                 No  \n",
      "9                 No  \n"
     ]
    }
   ],
   "source": [
    "# Using regex to identify mentions of endangered species\n",
    "environment_df['Endangered_species'] = environment_df['Notes'].str.contains(r'endangered species', flags=re.IGNORECASE).map({True: 'Yes', False: 'No'})\n",
    "\n",
    "print(environment_df)"
   ]
  },
  {
   "cell_type": "markdown",
   "id": "e9956efe",
   "metadata": {
    "tags": []
   },
   "source": [
    "### Exercise 4\n",
    "\n",
    "This code extracts 'Country' and 'Project Type' from the 'Location' and 'Description' columns respectively, generates a report summarising total projects and average budget by country, and identifies the top three most common project types in the dataset."
   ]
  },
  {
   "cell_type": "code",
   "execution_count": 6,
   "id": "f57bc4b8",
   "metadata": {},
   "outputs": [
    {
     "name": "stdout",
     "output_type": "stream",
     "text": [
      "          Total_Projects  Average_Budget                    Top_Project_Types\n",
      "Country                                                                      \n",
      "France                 2         22100.0  Conservation, Initiative, Community\n",
      "Germany                2         12650.0  Conservation, Initiative, Community\n",
      "Greece                 1         22000.0  Conservation, Initiative, Community\n",
      "Italy                  1         25000.0  Conservation, Initiative, Community\n",
      "Portugal               2         15400.0  Conservation, Initiative, Community\n",
      "Spain                  2         18500.0  Conservation, Initiative, Community\n"
     ]
    }
   ],
   "source": [
    "# Extract 'Country' from 'Location'\n",
    "environment_df['Country'] = environment_df['Location'].apply(lambda x: x.split(', ')[-1])\n",
    "\n",
    "# Extract 'Project Type' from 'Description'\n",
    "environment_df['Project_Type'] = environment_df['Description'].str.extract(r'(\\b\\w+\\b) Project')[0]\n",
    "\n",
    "# Generate the report\n",
    "report = environment_df.groupby('Country').agg(\n",
    "    Total_Projects=('ID', 'count'),\n",
    "    Average_Budget=('Budget_USD', 'mean')\n",
    ")\n",
    "\n",
    "# Identify top three most common project types\n",
    "top_project_types = environment_df['Project_Type'].value_counts().nlargest(3).index.tolist()\n",
    "report['Top_Project_Types'] = ', '.join(top_project_types)\n",
    "\n",
    "print(report)"
   ]
  },
  {
   "cell_type": "markdown",
   "id": "26fd094b-0fee-46f1-a4b8-73766813c42b",
   "metadata": {
    "tags": []
   },
   "source": [
    "#  \n",
    "\n",
    "<div align=\"center\" style=\" font-size: 80%; text-align: center; margin: 0 auto\">\n",
    "<img src=\"https://raw.githubusercontent.com/Explore-AI/Pictures/master/ExploreAI_logos/EAI_Blue_Dark.png\"  style=\"width:200px\";/>\n",
    "</div>"
   ]
  }
 ],
 "metadata": {
  "kernelspec": {
   "display_name": "base",
   "language": "python",
   "name": "python3"
  },
  "language_info": {
   "codemirror_mode": {
    "name": "ipython",
    "version": 3
   },
   "file_extension": ".py",
   "mimetype": "text/x-python",
   "name": "python",
   "nbconvert_exporter": "python",
   "pygments_lexer": "ipython3",
   "version": "3.12.4"
  }
 },
 "nbformat": 4,
 "nbformat_minor": 5
}
